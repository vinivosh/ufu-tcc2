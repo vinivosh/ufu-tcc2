{
 "cells": [
  {
   "attachments": {},
   "cell_type": "markdown",
   "metadata": {},
   "source": [
    "# Testando paralelização em GPUS através da biblioteca Numba\n",
    "\n",
    "## Multiplicando vetores (CPU)\n",
    "\n",
    "### Declarando a função"
   ]
  },
  {
   "cell_type": "code",
   "execution_count": 2,
   "metadata": {},
   "outputs": [],
   "source": [
    "import numpy as np\n",
    "\n",
    "def mulVectorsCPU(a:list[np.float64], b:list[np.float64]):\n",
    "    if a.size != b.size: raise RuntimeError('mulVectorsCPU() expects two vectors (lists) of equal length!')\n",
    "\n",
    "    # Initializing vector to be returned with zeroes (with default dtype -> np.float64)\n",
    "    c = np.zeros(a.size)\n",
    "    for i in range(b.size): c[i] = a[i] * b[i]\n",
    "    return c"
   ]
  },
  {
   "attachments": {},
   "cell_type": "markdown",
   "metadata": {},
   "source": [
    "### Inicializando vetores para testes\n",
    "\n",
    "Inicializando dois vetores **`a`** e **`b`** com **100.000.000 de floats randomizados** (no **intervalo [-10, +10]**).\n",
    "\n",
    "> Esta parte de geração costuma demorar 3m40s para executar num Ryzen 7 7700X @ 5.4 GHz!"
   ]
  },
  {
   "cell_type": "code",
   "execution_count": 3,
   "metadata": {},
   "outputs": [],
   "source": [
    "N = 100000000\n",
    "MIN_VAL = -10.0\n",
    "MAX_VAL = 10.0\n",
    "\n",
    "# Initializing vectors with zeroes (with default dtype -> np.float64)\n",
    "a = np.zeros(N)\n",
    "b = np.zeros(N)\n",
    "\n",
    "# Filling vectors with random floats\n",
    "for i in range(N):\n",
    "    a[i] = np.random.uniform(MIN_VAL, MAX_VAL)\n",
    "    b[i] = np.random.uniform(MIN_VAL, MAX_VAL)"
   ]
  },
  {
   "attachments": {},
   "cell_type": "markdown",
   "metadata": {},
   "source": [
    "### Rodando e cronometrando a função\n",
    "\n",
    "Utilizando o código abaixo podemos avaliar o **tempo de execução** da função **`mulVectorsCPU()`**, que roda na CPU.\n",
    "\n",
    "Em **dez execuções** de teste (com o mesmo input), temos:\n",
    "\n",
    "- Tempo médio: ~14,6612 segundos\n",
    "- Tempo mínimo: ~11,6958 segundos\n",
    "- Tempo máximo: ~22,6586 segundos"
   ]
  },
  {
   "cell_type": "code",
   "execution_count": 4,
   "metadata": {},
   "outputs": [
    {
     "name": "stdout",
     "output_type": "stream",
     "text": [
      "Multiplying vectors...\n",
      "Vectors multiplied with success!\n",
      "Execution time of 10.899645179000004 seconds\n",
      "\n",
      "Results:\n",
      "a[:5] = [ 8.46820582 -2.07350933  3.98438312 -5.94779188 -9.18597756]; a[-5:] = [ 6.86080059 -3.18931605 -4.61463927 -2.04224803  8.64487294]\n",
      "b[:5] = [-3.81603613 -4.08957518 -2.5057891   4.99247346  1.82104168]; b[-5:] = [ 6.02995183 -0.61436131 -1.71797819 -2.6246819  -6.91982981]\n",
      "a*b[:5] = [-32.31497936   8.47977229  -9.98402378 -29.69419314 -16.72804803]; a*b[-5:] = [ 41.37029705   1.9593924    7.9278496    5.36025143 -59.82104943]\n"
     ]
    }
   ],
   "source": [
    "from timeit import default_timer as timer\n",
    "\n",
    "print('Multiplying vectors...')\n",
    "\n",
    "startT = timer() # Startng our timer\n",
    "ab = mulVectorsCPU(a, b)\n",
    "endT = timer() # Endng our timer\n",
    "execTime = endT - startT\n",
    "\n",
    "print(f'Vectors multiplied with success!\\nExecution time of {execTime} seconds\\n\\nResults:')\n",
    "\n",
    "print(f'a[:5] = {a[:5]}; a[-5:] = {a[-5:]}')\n",
    "print(f'b[:5] = {b[:5]}; b[-5:] = {b[-5:]}')\n",
    "print(f'a*b[:5] = {ab[:5]}; a*b[-5:] = {ab[-5:]}')"
   ]
  },
  {
   "attachments": {},
   "cell_type": "markdown",
   "metadata": {},
   "source": [
    "## Multiplicando vetores (GPU)\n",
    "\n",
    "### Declarando a função"
   ]
  },
  {
   "cell_type": "code",
   "execution_count": 20,
   "metadata": {},
   "outputs": [],
   "source": [
    "from numba import vectorize\n",
    "\n",
    "@vectorize(['float64(float64, float64)'], target='cuda')\n",
    "def mulVectorsGPU(a:np.float64, b:np.float64):\n",
    "    return a*b"
   ]
  },
  {
   "cell_type": "code",
   "execution_count": 52,
   "metadata": {},
   "outputs": [
    {
     "name": "stdout",
     "output_type": "stream",
     "text": [
      "Multiplying vectors...\n",
      "Vectors multiplied with success!\n",
      "Execution time of 0.1863040700000056 seconds\n",
      "\n",
      "Results:\n",
      "a[:5] = [ 8.46820582 -2.07350933  3.98438312 -5.94779188 -9.18597756]; a[-5:] = [ 6.86080059 -3.18931605 -4.61463927 -2.04224803  8.64487294]\n",
      "b[:5] = [-3.81603613 -4.08957518 -2.5057891   4.99247346  1.82104168]; b[-5:] = [ 6.02995183 -0.61436131 -1.71797819 -2.6246819  -6.91982981]\n",
      "a*b[:5] = [-32.31497936   8.47977229  -9.98402378 -29.69419314 -16.72804803]; a*b[-5:] = [ 41.37029705   1.9593924    7.9278496    5.36025143 -59.82104943]\n"
     ]
    }
   ],
   "source": [
    "print('Multiplying vectors...')\n",
    "\n",
    "startT = timer() # Startng our timer\n",
    "ab = mulVectorsGPU(a, b)\n",
    "endT = timer() # Endng our timer\n",
    "execTime = endT - startT\n",
    "\n",
    "print(f'Vectors multiplied with success!\\nExecution time of {execTime} seconds\\n\\nResults:')\n",
    "\n",
    "print(f'a[:5] = {a[:5]}; a[-5:] = {a[-5:]}')\n",
    "print(f'b[:5] = {b[:5]}; b[-5:] = {b[-5:]}')\n",
    "print(f'a*b[:5] = {ab[:5]}; a*b[-5:] = {ab[-5:]}')"
   ]
  }
 ],
 "metadata": {
  "kernelspec": {
   "display_name": ".venv",
   "language": "python",
   "name": "python3"
  },
  "language_info": {
   "codemirror_mode": {
    "name": "ipython",
    "version": 3
   },
   "file_extension": ".py",
   "mimetype": "text/x-python",
   "name": "python",
   "nbconvert_exporter": "python",
   "pygments_lexer": "ipython3",
   "version": "3.11.3"
  },
  "orig_nbformat": 4
 },
 "nbformat": 4,
 "nbformat_minor": 2
}
