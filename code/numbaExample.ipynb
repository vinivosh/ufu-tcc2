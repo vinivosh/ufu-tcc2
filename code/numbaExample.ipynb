{
 "cells": [
  {
   "attachments": {},
   "cell_type": "markdown",
   "metadata": {},
   "source": [
    "# Testando paralelização em GPUS através da biblioteca Numba\n",
    "\n",
    "## Multiplicando vetores (CPU)\n",
    "\n",
    "### Declarando a função"
   ]
  },
  {
   "cell_type": "code",
   "execution_count": 30,
   "metadata": {},
   "outputs": [],
   "source": [
    "import numpy as np\n",
    "\n",
    "def mulVectorsCPU(a:list[np.float64], b:list[np.float64]):\n",
    "    if a.size != b.size: raise RuntimeError('mulVectorsCPU() expects two vectors (lists) of equal length!')\n",
    "\n",
    "    # Initializing vector to be returned with zeroes (with default dtype -> np.float64)\n",
    "    c = np.zeros(a.size)\n",
    "    for i in range(b.size): c[i] = a[i] * b[i]\n",
    "    return c"
   ]
  },
  {
   "attachments": {},
   "cell_type": "markdown",
   "metadata": {},
   "source": [
    "### Inicializando vetores para testes\n",
    "\n",
    "Inicializando dois vetores **`a`** e **`b`** com **50.000.000 de floats randomizados** (no **intervalo [-100, +100]**).\n",
    "\n",
    "> Esta parte de geração costuma demorar 1m50s para executar num Ryzen 7 7700X @ 5.4 GHz!"
   ]
  },
  {
   "cell_type": "code",
   "execution_count": 27,
   "metadata": {},
   "outputs": [],
   "source": [
    "N = 50000000\n",
    "MIN_VAL = -100.0\n",
    "MAX_VAL = 100.0\n",
    "\n",
    "# Initializing vectors with zeroes (with default dtype -> np.float64)\n",
    "a = np.zeros(N)\n",
    "b = np.zeros(N)\n",
    "\n",
    "# Filling vectors with random floats\n",
    "for i in range(N):\n",
    "    a[i] = np.random.uniform(MIN_VAL, MAX_VAL)\n",
    "    b[i] = np.random.uniform(MIN_VAL, MAX_VAL)"
   ]
  },
  {
   "attachments": {},
   "cell_type": "markdown",
   "metadata": {},
   "source": [
    "### Rodando e cronometrando a função"
   ]
  },
  {
   "cell_type": "code",
   "execution_count": 31,
   "metadata": {},
   "outputs": [
    {
     "name": "stdout",
     "output_type": "stream",
     "text": [
      "a[:5] = [-86.16883907  26.24286764 -27.31025067 -80.37469254 -51.11705327]; a[-5:] = [-81.17887786  53.38261686 -15.4691507  -35.24540466 -42.30697247]\n",
      "b[:5] = [ 21.98353284  48.22638927 -50.76062426 -86.73426524 -31.71781863]; b[-5:] = [-26.49347765 -52.24170961 -78.25359757  33.78661409 -32.784138  ]\n"
     ]
    }
   ],
   "source": [
    "from timeit import default_timer as timer\n",
    "\n",
    "# c = mulVectorsCPU(a, b)\n",
    "\n",
    "print(f'a[:5] = {a[:5]}; a[-5:] = {a[-5:]}')\n",
    "print(f'b[:5] = {b[:5]}; b[-5:] = {b[-5:]}')\n",
    "# print(f'c[:5] = {c[:5]}; c[-5:] = {c[-5:]}\\n')"
   ]
  }
 ],
 "metadata": {
  "kernelspec": {
   "display_name": ".venv",
   "language": "python",
   "name": "python3"
  },
  "language_info": {
   "codemirror_mode": {
    "name": "ipython",
    "version": 3
   },
   "file_extension": ".py",
   "mimetype": "text/x-python",
   "name": "python",
   "nbconvert_exporter": "python",
   "pygments_lexer": "ipython3",
   "version": "3.11.3"
  },
  "orig_nbformat": 4
 },
 "nbformat": 4,
 "nbformat_minor": 2
}
