{
 "cells": [
  {
   "attachments": {},
   "cell_type": "markdown",
   "metadata": {},
   "source": [
    "# Testando paralelização em GPUS através da biblioteca Numba\n",
    "\n",
    "## Multiplicando vetores (CPU)\n",
    "\n",
    "### Declarando a função"
   ]
  },
  {
   "cell_type": "code",
   "execution_count": 2,
   "metadata": {},
   "outputs": [],
   "source": [
    "import numpy as np\n",
    "\n",
    "def mulVectorsCPU(a:list[np.float64], b:list[np.float64]):\n",
    "    if a.size != b.size: raise RuntimeError('mulVectorsCPU() expects two vectors (lists) of equal length!')\n",
    "\n",
    "    # Initializing vector to be returned with zeroes (with default dtype -> np.float64)\n",
    "    c = np.zeros(a.size)\n",
    "    for i in range(b.size): c[i] = a[i] * b[i]\n",
    "    return c"
   ]
  },
  {
   "attachments": {},
   "cell_type": "markdown",
   "metadata": {},
   "source": [
    "### Inicializando vetores para testes\n",
    "\n",
    "Inicializando dois vetores **`a`** e **`b`** com **100.000.000 de floats randomizados** (no **intervalo [-10, +10]**).\n",
    "\n",
    "> Esta parte de geração costuma demorar 3m40s para executar num Ryzen 7 7700X @ 5.4 GHz!"
   ]
  },
  {
   "cell_type": "code",
   "execution_count": 3,
   "metadata": {},
   "outputs": [],
   "source": [
    "N = 100000000\n",
    "MIN_VAL = -10.0\n",
    "MAX_VAL = 10.0\n",
    "\n",
    "# Initializing vectors with zeroes (with default dtype -> np.float64)\n",
    "a = np.zeros(N)\n",
    "b = np.zeros(N)\n",
    "\n",
    "# Filling vectors with random floats\n",
    "for i in range(N):\n",
    "    a[i] = np.random.uniform(MIN_VAL, MAX_VAL)\n",
    "    b[i] = np.random.uniform(MIN_VAL, MAX_VAL)"
   ]
  },
  {
   "attachments": {},
   "cell_type": "markdown",
   "metadata": {},
   "source": [
    "### Rodando e cronometrando a função\n",
    "\n",
    "Utilizando o código abaixo podemos avaliar o **tempo de execução** da função **`mulVectorsCPU()`**, que roda na CPU.\n",
    "\n",
    "Em **dez execuções** de teste (com o mesmo input), temos:\n",
    "\n",
    "- Tempo médio: ~14,6612 segundos\n",
    "- Tempo mínimo: ~11,6958 segundos\n",
    "- Tempo máximo: ~22,6586 segundos"
   ]
  },
  {
   "cell_type": "code",
   "execution_count": 24,
   "metadata": {},
   "outputs": [
    {
     "name": "stdout",
     "output_type": "stream",
     "text": [
      "Multiplying vectors...\n",
      "Vectors multiplied with success!\n",
      "Execution time of 18.97332693899807 seconds\n",
      "\n",
      "Results:\n",
      "a[:5] = [-5.57351108 -2.16060523  2.43268902 -9.65624632 -5.53180984]; a[-5:] = [ 3.68063076  8.35832876 -7.56794955  1.2929343  -2.51223156]\n",
      "b[:5] = [ 9.3021517   7.84995943  3.47547217 -5.85633487 -0.94587999]; b[-5:] = [-8.56374418  3.58405984 -1.78723017  9.97203578  5.02214159]\n",
      "a*b[:5] = [-51.84564555 -16.9606634    8.454743    56.55021204   5.23242822]; a*b[-5:] = [-31.5199803   29.95675047  13.52566776  12.89318715 -12.61678262]\n"
     ]
    }
   ],
   "source": [
    "from timeit import default_timer as timer\n",
    "\n",
    "print('Multiplying vectors...')\n",
    "\n",
    "startT = timer() # Startng our timer\n",
    "ab = mulVectorsCPU(a, b)\n",
    "endT = timer() # Endng our timer\n",
    "execTime = endT - startT\n",
    "\n",
    "print(f'Vectors multiplied with success!\\nExecution time of {execTime} seconds\\n\\nResults:')\n",
    "\n",
    "print(f'a[:5] = {a[:5]}; a[-5:] = {a[-5:]}')\n",
    "print(f'b[:5] = {b[:5]}; b[-5:] = {b[-5:]}')\n",
    "print(f'a*b[:5] = {ab[:5]}; a*b[-5:] = {ab[-5:]}')"
   ]
  },
  {
   "attachments": {},
   "cell_type": "markdown",
   "metadata": {},
   "source": [
    "## Multiplicando vetores (GPU)\n",
    "\n",
    "### Declarando a função"
   ]
  },
  {
   "cell_type": "code",
   "execution_count": 25,
   "metadata": {},
   "outputs": [],
   "source": [
    "from numba import vectorize\n",
    "\n",
    "@vectorize(['float64(float64, float64)'], target='cuda')\n",
    "def mulVectorsGPU(a:np.float64, b:np.float64):\n",
    "    return a*b"
   ]
  },
  {
   "attachments": {},
   "cell_type": "markdown",
   "metadata": {},
   "source": [
    "### Rodando e cronometando a função\n",
    "\n",
    "Agora, avliando o **tempo de execução** da função **`mulVectorsGPU()`**, que roda desta vez na GPU.\n",
    "\n",
    "Em **dez execuções** de teste (com o mesmo input), temos:\n",
    "\n",
    "- Tempo médio: ~0,3287 segundos\n",
    "- Tempo mínimo: ~0,2087 segundos\n",
    "- Tempo máximo: ~0,5848 segundos"
   ]
  },
  {
   "cell_type": "code",
   "execution_count": 26,
   "metadata": {},
   "outputs": [
    {
     "name": "stdout",
     "output_type": "stream",
     "text": [
      "Multiplying vectors...\n",
      "Vectors multiplied with success!\n",
      "Execution time of 1.1822460539988242 seconds\n",
      "\n",
      "Results:\n",
      "a[:5] = [-5.57351108 -2.16060523  2.43268902 -9.65624632 -5.53180984]; a[-5:] = [ 3.68063076  8.35832876 -7.56794955  1.2929343  -2.51223156]\n",
      "b[:5] = [ 9.3021517   7.84995943  3.47547217 -5.85633487 -0.94587999]; b[-5:] = [-8.56374418  3.58405984 -1.78723017  9.97203578  5.02214159]\n",
      "a*b[:5] = [-51.84564555 -16.9606634    8.454743    56.55021204   5.23242822]; a*b[-5:] = [-31.5199803   29.95675047  13.52566776  12.89318715 -12.61678262]\n"
     ]
    }
   ],
   "source": [
    "print('Multiplying vectors...')\n",
    "\n",
    "startT = timer() # Startng our timer\n",
    "ab = mulVectorsGPU(a, b)\n",
    "endT = timer() # Endng our timer\n",
    "execTime = endT - startT\n",
    "\n",
    "print(f'Vectors multiplied with success!\\nExecution time of {execTime} seconds\\n\\nResults:')\n",
    "\n",
    "print(f'a[:5] = {a[:5]}; a[-5:] = {a[-5:]}')\n",
    "print(f'b[:5] = {b[:5]}; b[-5:] = {b[-5:]}')\n",
    "print(f'a*b[:5] = {ab[:5]}; a*b[-5:] = {ab[-5:]}')"
   ]
  },
  {
   "attachments": {},
   "cell_type": "markdown",
   "metadata": {},
   "source": [
    "# Analisando Ganhos\n",
    "\n",
    "Comparando os tempos de execução entre a multiplicação de vetores executada na CPU e a executada na GPU, vemos um ganho imenso de velocidade!\n",
    "\n",
    "| — | **Tempo de execução (CPU)** | **Tempo de execução (GPU)** | **Speed-up** |\n",
    "| --- | --- | --- | --- |\n",
    "| **Média** | 14,6612s | 0,3287s | 44,60x |\n",
    "| **Mínimo** | 11,6958s | 0,2087s | 56,04x |\n",
    "| **Máximo** | 22,6586s | 0,5848s | 38,74x |\n",
    "\n",
    "\n",
    "<!-- | --- | --- | --- |\n",
    "| --- | --- | --- |\n",
    "| --- | --- | --- |\n",
    "| --- | --- | --- | -->"
   ]
  }
 ],
 "metadata": {
  "kernelspec": {
   "display_name": ".venv",
   "language": "python",
   "name": "python3"
  },
  "language_info": {
   "codemirror_mode": {
    "name": "ipython",
    "version": 3
   },
   "file_extension": ".py",
   "mimetype": "text/x-python",
   "name": "python",
   "nbconvert_exporter": "python",
   "pygments_lexer": "ipython3",
   "version": "3.11.3"
  },
  "orig_nbformat": 4
 },
 "nbformat": 4,
 "nbformat_minor": 2
}
