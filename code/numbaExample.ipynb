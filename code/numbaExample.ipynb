{
 "cells": [
  {
   "attachments": {},
   "cell_type": "markdown",
   "metadata": {},
   "source": [
    "# Testando paralelização em GPUS através da biblioteca Numba\n",
    "\n",
    "## Multiplicando vetores (CPU)\n",
    "\n",
    "### Declarando a função"
   ]
  },
  {
   "cell_type": "code",
   "execution_count": 14,
   "metadata": {},
   "outputs": [],
   "source": [
    "import numpy as np\n",
    "\n",
    "def mulVectorsCPU(a:list[np.float64], b:list[np.float64]):\n",
    "    if a.size != b.size: raise RuntimeError('mulVectorsCPU() expects two vectors (lists) of equal length!')\n",
    "\n",
    "    c = [] # Vector to be returned\n",
    "    for i in range(a.size): c.append(a[i] * b[i])\n",
    "    return c"
   ]
  },
  {
   "attachments": {},
   "cell_type": "markdown",
   "metadata": {},
   "source": [
    "### Inicializando vetores para testes\n",
    "\n",
    "Inicializando dois vetores **`a`** e **`b`** com **1,000,000,000 (um bilhão) de floats randomizados** (no **intervalo [-1000, +1000]**)"
   ]
  },
  {
   "cell_type": "code",
   "execution_count": 20,
   "metadata": {},
   "outputs": [
    {
     "name": "stdout",
     "output_type": "stream",
     "text": [
      "a[:5] = [-97.55206547 -76.982899   -42.93920612  12.21265777  93.61409053]; a[-5:] = [-35.03425009 -94.20764148  15.73056993 -69.4473211  -79.7350862 ]\n",
      "b[:5] = [-27.31446483  45.45453459 -61.73734635 -56.627657    32.27106207]; b[-5:] = [-67.12440957 -68.18581055 -67.94416229  93.81666111 -91.13087531]\n",
      "\n"
     ]
    }
   ],
   "source": [
    "N = 10000000\n",
    "MIN_VAL = -100.0\n",
    "MAX_VAL = 100.0\n",
    "\n",
    "# Initializing vectors with zeroes (with default dtype -> np.float64)\n",
    "a = np.zeros(N)\n",
    "b = np.zeros(N)\n",
    "\n",
    "for i in range(N):\n",
    "    a[i] = np.random.uniform(MIN_VAL, MAX_VAL)\n",
    "    b[i] = np.random.uniform(MIN_VAL, MAX_VAL)\n",
    "\n",
    "print(f'a[:5] = {a[:5]}; a[-5:] = {a[-5:]}')\n",
    "print(f'b[:5] = {b[:5]}; b[-5:] = {b[-5:]}\\n')"
   ]
  }
 ],
 "metadata": {
  "kernelspec": {
   "display_name": ".venv",
   "language": "python",
   "name": "python3"
  },
  "language_info": {
   "codemirror_mode": {
    "name": "ipython",
    "version": 3
   },
   "file_extension": ".py",
   "mimetype": "text/x-python",
   "name": "python",
   "nbconvert_exporter": "python",
   "pygments_lexer": "ipython3",
   "version": "3.11.3"
  },
  "orig_nbformat": 4
 },
 "nbformat": 4,
 "nbformat_minor": 2
}
