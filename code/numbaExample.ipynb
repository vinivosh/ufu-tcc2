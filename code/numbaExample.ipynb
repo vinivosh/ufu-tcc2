{
 "cells": [
  {
   "attachments": {},
   "cell_type": "markdown",
   "metadata": {},
   "source": [
    "# Testando paralelização em GPUS através da biblioteca Numba\n",
    "\n",
    "## Multiplicando vetores (CPU)\n",
    "\n",
    "### Declarando a função"
   ]
  },
  {
   "cell_type": "code",
   "execution_count": 40,
   "metadata": {},
   "outputs": [],
   "source": [
    "import numpy as np\n",
    "\n",
    "def mulVectorsCPU(a:list[np.float64], b:list[np.float64]):\n",
    "    if a.size != b.size: raise RuntimeError('mulVectorsCPU() expects two vectors (lists) of equal length!')\n",
    "\n",
    "    # Initializing vector to be returned with zeroes (with default dtype -> np.float64)\n",
    "    c = np.zeros(a.size)\n",
    "    for i in range(b.size): c[i] = a[i] * b[i]\n",
    "    return c"
   ]
  },
  {
   "attachments": {},
   "cell_type": "markdown",
   "metadata": {},
   "source": [
    "### Inicializando vetores para testes\n",
    "\n",
    "Inicializando dois vetores **`a`** e **`b`** com **100.000.000 de floats randomizados** (no **intervalo [-10, +10]**).\n",
    "\n",
    "> Esta parte de geração costuma demorar 3m40s para executar num Ryzen 7 7700X @ 5.4 GHz!"
   ]
  },
  {
   "cell_type": "code",
   "execution_count": 41,
   "metadata": {},
   "outputs": [],
   "source": [
    "N = 100000000\n",
    "MIN_VAL = -10.0\n",
    "MAX_VAL = 10.0\n",
    "\n",
    "# Initializing vectors with zeroes (with default dtype -> np.float64)\n",
    "a = np.zeros(N)\n",
    "b = np.zeros(N)\n",
    "\n",
    "# Filling vectors with random floats\n",
    "for i in range(N):\n",
    "    a[i] = np.random.uniform(MIN_VAL, MAX_VAL)\n",
    "    b[i] = np.random.uniform(MIN_VAL, MAX_VAL)"
   ]
  },
  {
   "attachments": {},
   "cell_type": "markdown",
   "metadata": {},
   "source": [
    "### Rodando e cronometrando a função"
   ]
  },
  {
   "cell_type": "code",
   "execution_count": 49,
   "metadata": {},
   "outputs": [
    {
     "name": "stdout",
     "output_type": "stream",
     "text": [
      "Multiplying vectors...\n",
      "Vectors multiplied with success!\n",
      "Execution time of 16.225934627000242 seconds\n",
      "\n",
      "Results:\n",
      "a[:5] = [ 5.58645591  7.1960415   6.50719311 -5.19911121  1.73239469]; a[-5:] = [ 8.06375273 -9.25388366  0.3293915   5.76714129  0.74939404]\n",
      "b[:5] = [-7.89471903 -5.51047462  2.26876042 -9.50115543 -4.89182665]; b[-5:] = [ 4.80931324 -0.83405754  8.87204259 -8.92813329  8.15007207]\n",
      "a*b[:5] = [-44.10349976 -39.65360405  14.76326217  49.39756372  -8.47457449]; a*b[-5:] = [ 38.78111278   7.71827141   2.9223754  -51.4898062    6.10761548]\n"
     ]
    }
   ],
   "source": [
    "from timeit import default_timer as timer\n",
    "\n",
    "print('Multiplying vectors...')\n",
    "\n",
    "startT = timer() # Startng our timer\n",
    "ab = mulVectorsCPU(a, b)\n",
    "endT = timer() # Endng our timer\n",
    "execTime = endT - startT\n",
    "\n",
    "print(f'Vectors multiplied with success!\\nExecution time of {execTime} seconds\\n\\nResults:')\n",
    "\n",
    "print(f'a[:5] = {a[:5]}; a[-5:] = {a[-5:]}')\n",
    "print(f'b[:5] = {b[:5]}; b[-5:] = {b[-5:]}')\n",
    "print(f'a*b[:5] = {ab[:5]}; a*b[-5:] = {ab[-5:]}')"
   ]
  }
 ],
 "metadata": {
  "kernelspec": {
   "display_name": ".venv",
   "language": "python",
   "name": "python3"
  },
  "language_info": {
   "codemirror_mode": {
    "name": "ipython",
    "version": 3
   },
   "file_extension": ".py",
   "mimetype": "text/x-python",
   "name": "python",
   "nbconvert_exporter": "python",
   "pygments_lexer": "ipython3",
   "version": "3.11.3"
  },
  "orig_nbformat": 4
 },
 "nbformat": 4,
 "nbformat_minor": 2
}
