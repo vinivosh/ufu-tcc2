{
 "cells": [
  {
   "cell_type": "markdown",
   "metadata": {},
   "source": [
    "# Testes de Desempenho\n",
    "\n",
    "## K-Means\n",
    "\n",
    "Vamos agora realizar testes de ganho de velocidade de execução, comparando o desempenho do K-Means rodando na CPU com o do K-means rodando na GPU.\n",
    "\n",
    "Desta vez, iremos utilizar datasets bem maiores e, portanto, nada triviais — como era o caso do [*Iris* Data Set](https://archive.ics.uci.edu/ml/datasets/Iris) que foi usado anteriormente apenas como uma prova de conceito e teste de corretude.\n",
    "\n",
    "A ideia é testar se os ganhos de desempenho ao utilizarmos uma versão paralelizada em GPU diminuem, estagnam ou aumentam junto com o aumento de instâncias ou dimensionalidade do dataset.\n",
    "\n",
    "\n",
    "\n",
    "### Dataset 1 (Muito Mais Dimensões)\n",
    "\n",
    "[TBA]\n",
    "\n",
    "#### Código"
   ]
  },
  {
   "cell_type": "code",
   "execution_count": 5,
   "metadata": {},
   "outputs": [
    {
     "name": "stdout",
     "output_type": "stream",
     "text": [
      "<function kMeansCPU at 0x7ff07a934040>\n",
      "<function kMeansGPU at 0x7ff07473cae0>\n"
     ]
    }
   ],
   "source": [
    "from kMeans import *\n",
    "\n",
    "print(kMeansCPU)\n",
    "print(kMeansGPU)"
   ]
  },
  {
   "cell_type": "markdown",
   "metadata": {},
   "source": [
    "### Dataset 2 (Muito Mais Instâncias)\n",
    "\n",
    "[TBA]\n",
    "\n",
    "#### Código"
   ]
  },
  {
   "cell_type": "code",
   "execution_count": 6,
   "metadata": {},
   "outputs": [],
   "source": [
    "# TBA"
   ]
  },
  {
   "cell_type": "markdown",
   "metadata": {},
   "source": [
    "### Dataset 3 (Muito Mais Insâncias e Dimensões)\n",
    "\n",
    "Foi utilizado aqui um sub-conjunto dos dados do Dataset **[WESAD (Wearable Stress and Affect Detection)](https://archive.ics.uci.edu/dataset/465/wesad+wearable+stress+and+affect+detection)**, que reúne dados, fisiológicos e de movimento, de diversos sensores presentes em aparelhos *wearables* usados por 15 pacientes diferentes em testes laboratoriais. Um aparelho foi usado no peitoral e outro no pulso dos pacientes.\n",
    "\n",
    "Esse dataset também contém informações de classe, definindo momentos dos testes como pertencendo à três classificações de emoção do paciente: **referência**, **estresse** ou **diversão**. Portanto, haverão **3 grupos de dados (K = 3)**.\n",
    "\n",
    "O sub-conjunto de dados utilizado foi: dados obtidos apenas através do **aparelho usado no peito** do paciente, e apenas do **paciente #4**. Utilizando este sub-conjunto, temos **8 variáveis (D = 8)** e **4.588.552 instâncias**, cada uma sendo uma leitura ao longo do tempo do teste laboratorial (leituras realizadas na frequência de 700hz).\n",
    "\n",
    "Esse sub-conjunto de dados está presente no arquivo `S4/S4_respiban.txt` dentro do arquivo `WESAD.zip` do dataset (também disponível em download direto [neste link](https://uni-siegen.sciebo.de/s/HGdUkoNlW1Ub0Gx/download)).\n",
    "\n",
    "#### Código"
   ]
  },
  {
   "cell_type": "code",
   "execution_count": 27,
   "metadata": {},
   "outputs": [
    {
     "name": "stdout",
     "output_type": "stream",
     "text": [
      "<function kMeansCPU at 0x750b04378040>\n",
      "<function kMeansGPU at 0x750afbb7cae0>\n",
      "           ECG   EDA    EMG   TEMP  spatialX  spatialY  spatialZ  RESPIRATION\n",
      "index                                                                        \n",
      "0        34487  2844  32819  27563     37495     32437     31921        33292\n",
      "1        34274  2869  32481  27560     37485     32433     31935        33295\n",
      "2        33960  2774  32431  27557     37471     32445     31927        33293\n",
      "3        33737  2767  32561  27555     37485     32433     31925        33308\n",
      "4        33602  2768  32696  27562     37487     32429     31909        33300\n",
      "...        ...   ...    ...    ...       ...       ...       ...          ...\n",
      "4588548  33272  6470  32721  26727     37539     32597     32256        31863\n",
      "4588549  33389  6467  32360  26726     37543     32583     32253        31865\n",
      "4588550  33497  6456  32357  26719     37530     32598     32243        31857\n",
      "4588551  33499  6450  32175  26733     37539     32585     32263        31855\n",
      "4588552  33425  6445  32340  26753     37525     32595     32237        31847\n",
      "\n",
      "[4588553 rows x 8 columns]\n"
     ]
    }
   ],
   "source": [
    "from kMeans import *\n",
    "\n",
    "print(kMeansCPU)\n",
    "print(kMeansGPU)\n",
    "\n",
    "# Novas variáveis globais\n",
    "MAX_ITERATIONS = 100\n",
    "PLOT_RESULTS = True\n",
    "DEBUG = True\n",
    "\n",
    "datasetFilePath = './WESAD/S4/S4_respiban.txt'\n",
    "columnNames = ['index', 'DI', 'ECG', 'EDA', 'EMG', 'TEMP', 'spatialX', 'spatialY', 'spatialZ', 'RESPIRATION', '_ignore_']\n",
    "\n",
    "# Lendo dataset do arquivo\n",
    "with open(datasetFilePath, 'r') as datasetFile:\n",
    "    dataset = pd.read_csv(datasetFilePath, names=columnNames, sep='\\t', index_col=0, skip_blank_lines=True, comment='#')\n",
    "\n",
    "dataset = dataset.drop(columns=['DI', '_ignore_'])\n",
    "\n",
    "print(dataset)"
   ]
  }
 ],
 "metadata": {
  "kernelspec": {
   "display_name": ".venv",
   "language": "python",
   "name": "python3"
  },
  "language_info": {
   "codemirror_mode": {
    "name": "ipython",
    "version": 3
   },
   "file_extension": ".py",
   "mimetype": "text/x-python",
   "name": "python",
   "nbconvert_exporter": "python",
   "pygments_lexer": "ipython3",
   "version": "3.11.3"
  }
 },
 "nbformat": 4,
 "nbformat_minor": 2
}
