{
 "cells": [
  {
   "cell_type": "markdown",
   "metadata": {},
   "source": [
    "# Testes de Desempenho\n",
    "\n",
    "## K-Means\n",
    "\n",
    "Vamos agora realizar testes de ganho de velocidade de execução, comparando o desempenho do K-Means rodando na CPU com o do K-means rodando na GPU.\n",
    "\n",
    "Desta vez, iremos utilizar datasets bem maiores e, portanto, nada triviais — como era o caso do [*Iris* Data Set](https://archive.ics.uci.edu/ml/datasets/Iris) que foi usado anteriormente apenas como uma prova de conceito e teste de corretude.\n",
    "\n",
    "A ideia é testar se os ganhos de desempenho ao utilizarmos uma versão paralelizada em GPU diminuem, estagnam ou aumentam junto com o aumento de instâncias ou dimensionalidade do dataset.\n",
    "\n",
    "\n",
    "\n",
    "### Dataset 1 (Muito Mais Dimensões)\n",
    "\n",
    "[TBA]\n",
    "\n",
    "#### Código"
   ]
  },
  {
   "cell_type": "code",
   "execution_count": 13,
   "metadata": {},
   "outputs": [
    {
     "name": "stdout",
     "output_type": "stream",
     "text": [
      "<function kMeansCPU at 0x78423d12ae80>\n",
      "<function kMeansGPU at 0x78423af307c0>\n"
     ]
    }
   ],
   "source": [
    "from kMeans import *\n",
    "\n",
    "print(kMeansCPU)\n",
    "print(kMeansGPU)"
   ]
  },
  {
   "cell_type": "markdown",
   "metadata": {},
   "source": [
    "### Dataset 2 (Muito Mais Instâncias)\n",
    "\n",
    "[TBA]\n",
    "\n",
    "#### Código"
   ]
  },
  {
   "cell_type": "code",
   "execution_count": 14,
   "metadata": {},
   "outputs": [],
   "source": [
    "# TBA"
   ]
  },
  {
   "cell_type": "markdown",
   "metadata": {},
   "source": [
    "### Dataset 3 (Muito Mais Insâncias e Dimensões)\n",
    "\n",
    "Foi utilizado aqui um sub-conjunto dos dados do Dataset **[WESAD (Wearable Stress and Affect Detection)](https://archive.ics.uci.edu/dataset/465/wesad+wearable+stress+and+affect+detection)**, que reúne dados, fisiológicos e de movimento, de diversos sensores presentes em aparelhos *wearables* usados por 15 pacientes diferentes em testes laboratoriais. Um aparelho foi usado no peitoral e outro no pulso dos pacientes.\n",
    "\n",
    "Esse dataset também contém informações de classe, definindo momentos dos testes como pertencendo à três classificações de emoção do paciente: **referência**, **estresse** ou **diversão**. Portanto, haverão **3 grupos de dados (K = 3)**.\n",
    "\n",
    "O sub-conjunto de dados utilizado foi: dados obtidos apenas através do **aparelho usado no peito** do paciente, e apenas do **paciente #4**. Utilizando este sub-conjunto, temos **8 variáveis (D = 8)** e **4.588.552 instâncias**, cada uma sendo uma leitura ao longo do tempo do teste laboratorial (leituras realizadas na frequência de 700hz).\n",
    "\n",
    "Esse sub-conjunto de dados está presente no arquivo `S4/S4_respiban.txt` dentro do arquivo `WESAD.zip` do dataset (também disponível em download direto [neste link](https://uni-siegen.sciebo.de/s/HGdUkoNlW1Ub0Gx/download)).\n",
    "\n",
    "#### Código"
   ]
  },
  {
   "cell_type": "code",
   "execution_count": 15,
   "metadata": {},
   "outputs": [
    {
     "name": "stdout",
     "output_type": "stream",
     "text": [
      "           ECG   EDA    EMG   TEMP  spatialX  spatialY  spatialZ  RESPIRATION\n",
      "index                                                                        \n",
      "0        34487  2844  32819  27563     37495     32437     31921        33292\n",
      "1        34274  2869  32481  27560     37485     32433     31935        33295\n",
      "2        33960  2774  32431  27557     37471     32445     31927        33293\n",
      "3        33737  2767  32561  27555     37485     32433     31925        33308\n",
      "4        33602  2768  32696  27562     37487     32429     31909        33300\n",
      "...        ...   ...    ...    ...       ...       ...       ...          ...\n",
      "4588548  33272  6470  32721  26727     37539     32597     32256        31863\n",
      "4588549  33389  6467  32360  26726     37543     32583     32253        31865\n",
      "4588550  33497  6456  32357  26719     37530     32598     32243        31857\n",
      "4588551  33499  6450  32175  26733     37539     32585     32263        31855\n",
      "4588552  33425  6445  32340  26753     37525     32595     32237        31847\n",
      "\n",
      "[4588553 rows x 8 columns]\n"
     ]
    }
   ],
   "source": [
    "import kMeans as km\n",
    "import importlib\n",
    "\n",
    "importlib.reload(km)\n",
    "\n",
    "# Testing imports\n",
    "# print(km.kMeansCPU)\n",
    "# print(km.kMeansGPU)\n",
    "\n",
    "# Novas variáveis globais\n",
    "K = 3\n",
    "MAX_ITERATIONS = 500\n",
    "PLOT_RESULTS = False\n",
    "DEBUG = False\n",
    "\n",
    "datasetFilePath = './WESAD/S4/S4_respiban.txt'\n",
    "columnNames = ['index', 'DI', 'ECG', 'EDA', 'EMG', 'TEMP', 'spatialX', 'spatialY', 'spatialZ', 'RESPIRATION', '_ignore_']\n",
    "\n",
    "# Lendo dataset do arquivo\n",
    "with open(datasetFilePath, 'r') as datasetFile:\n",
    "    dataset = pd.read_csv(datasetFilePath, names=columnNames, sep='\\t', index_col=0, skip_blank_lines=True, comment='#')\n",
    "\n",
    "dataset = dataset.drop(columns=['DI', '_ignore_'])\n",
    "\n",
    "print(dataset)"
   ]
  },
  {
   "cell_type": "code",
   "execution_count": 16,
   "metadata": {},
   "outputs": [
    {
     "name": "stdout",
     "output_type": "stream",
     "text": [
      "##### Dataset (tratado e normalizado, intervalo [1, 10]) #####\n",
      "              ECG       EDA       EMG      TEMP  spatialX  spatialY  spatialZ   \n",
      "index                                                                           \n",
      "0        5.735295  1.508909  4.175522  8.925593  5.800000  5.203079  4.600799  \\\n",
      "1        5.706038  1.527215  3.927640  8.903516  5.789437  5.196481  4.607789   \n",
      "2        5.662907  1.457652  3.890971  8.881439  5.774648  5.216276  4.603795   \n",
      "3        5.632276  1.452526  3.986310  8.866721  5.789437  5.196481  4.602796   \n",
      "4        5.613733  1.453258  4.085316  8.918234  5.791549  5.189883  4.594808   \n",
      "...           ...       ...       ...       ...       ...       ...       ...   \n",
      "4588548  5.568405  4.164022  4.103651  2.773508  5.846479  5.467009  4.768057   \n",
      "4588549  5.584475  4.161826  3.838902  2.766149  5.850704  5.443915  4.766559   \n",
      "4588550  5.599310  4.153771  3.836701  2.714636  5.836972  5.468658  4.761567   \n",
      "4588551  5.599585  4.149378  3.703227  2.817661  5.846479  5.447214  4.771552   \n",
      "4588552  5.589420  4.145716  3.824234  2.964841  5.831690  5.463710  4.758571   \n",
      "\n",
      "         RESPIRATION  \n",
      "index                 \n",
      "0           5.634836  \n",
      "1           5.635812  \n",
      "2           5.635161  \n",
      "3           5.640040  \n",
      "4           5.637438  \n",
      "...              ...  \n",
      "4588548     5.169986  \n",
      "4588549     5.170636  \n",
      "4588550     5.168034  \n",
      "4588551     5.167384  \n",
      "4588552     5.164781  \n",
      "\n",
      "[4588553 rows x 8 columns]\n"
     ]
    }
   ],
   "source": [
    "# Normalizando o dataset (normalização min-max), para que todos valores estejam no intervalo [1, 10]\n",
    "datasetTreated = ((dataset - dataset.min()) / (dataset.max() - dataset.min())) * 9 + 1\n",
    "\n",
    "print(f'##### Dataset (tratado e normalizado, intervalo [1, 10]) #####\\n{datasetTreated}')"
   ]
  },
  {
   "cell_type": "code",
   "execution_count": 17,
   "metadata": {},
   "outputs": [
    {
     "name": "stdout",
     "output_type": "stream",
     "text": [
      "Iteration #12/500\n",
      "\n",
      "Centroids:\n",
      "        ECG       EDA       EMG      TEMP  spatialX  spatialY  spatialZ   \n",
      "0  5.411998  5.348804  4.092734  2.814377  5.266660  4.325328  4.373627  \\\n",
      "1  9.475452  2.824012  3.921963  4.666936  5.143329  3.993317  4.180891   \n",
      "2  5.397864  2.079654  4.103963  6.350607  5.138130  3.776488  4.124920   \n",
      "\n",
      "   RESPIRATION  \n",
      "0     5.444872  \n",
      "1     5.462898  \n",
      "2     5.454003  \n",
      "\n",
      "Distances:\n",
      "                0         1         2\n",
      "index                                \n",
      "0        7.303816  6.001612  3.131721\n",
      "1        7.274570  5.992996  3.107312\n",
      "2        7.293490  6.022304  3.106105\n",
      "3        7.279733  6.030568  3.081633\n",
      "4        7.319977  6.078306  3.116265\n",
      "...           ...       ...       ...\n",
      "4588548  1.816789  4.876011  4.585109\n",
      "4588549  1.824108  4.856169  4.590091\n",
      "4588550  1.843445  4.867585  4.633915\n",
      "4588551  1.858952  4.826080  4.556326\n",
      "4588552  1.848090  4.776328  4.433946\n",
      "\n",
      "[4588553 rows x 3 columns]\n",
      "\n",
      "Closest centroid index:\n",
      "index\n",
      "0          2\n",
      "1          2\n",
      "2          2\n",
      "3          2\n",
      "4          2\n",
      "          ..\n",
      "4588548    0\n",
      "4588549    0\n",
      "4588550    0\n",
      "4588551    0\n",
      "4588552    0\n",
      "Length: 4588553, dtype: int64\n",
      "\n",
      "Results:\n",
      " \n",
      "index\n",
      "0          2\n",
      "1          2\n",
      "2          2\n",
      "3          2\n",
      "4          2\n",
      "          ..\n",
      "4588548    0\n",
      "4588549    0\n",
      "4588550    0\n",
      "4588551    0\n",
      "4588552    0\n",
      "Length: 4588553, dtype: int64\n",
      " \n"
     ]
    }
   ],
   "source": [
    "\n",
    "# * ####################################\n",
    "# * Rodando o K-Means CPU\n",
    "# * ####################################\n",
    "\n",
    "results = km.kMeansCPU(datasetTreated, k=K, maxIter=MAX_ITERATIONS, plotResults=PLOT_RESULTS, debug=DEBUG)\n",
    "\n",
    "print(f'Results:\\n \\n{results}\\n ')"
   ]
  }
 ],
 "metadata": {
  "kernelspec": {
   "display_name": ".venv",
   "language": "python",
   "name": "python3"
  },
  "language_info": {
   "codemirror_mode": {
    "name": "ipython",
    "version": 3
   },
   "file_extension": ".py",
   "mimetype": "text/x-python",
   "name": "python",
   "nbconvert_exporter": "python",
   "pygments_lexer": "ipython3",
   "version": "3.11.3"
  }
 },
 "nbformat": 4,
 "nbformat_minor": 2
}
